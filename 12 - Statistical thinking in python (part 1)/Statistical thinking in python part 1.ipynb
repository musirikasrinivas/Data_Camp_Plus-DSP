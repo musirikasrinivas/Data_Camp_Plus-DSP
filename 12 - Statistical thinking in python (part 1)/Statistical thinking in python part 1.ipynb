{
 "cells": [
  {
   "cell_type": "markdown",
   "id": "offshore-secretary",
   "metadata": {},
   "source": [
    "<div class=\"alert alert-block alert-info\">\n",
    "\n",
    "### Chapter 1 -  Exercise 5\n",
    "### Plotting a histogram of iris data\n",
    "For the exercises in this section, you will use a classic data set collected by botanist Edward Anderson and made famous by Ronald Fisher, one of the most prolific statisticians in history. Anderson carefully measured the anatomical properties of samples of three different species of iris, _Iris setosa_, _Iris versicolor_, and _Iris virginica_. The full data set is [available as part of scikit-learn](http://scikit-learn.org/stable/modules/generated/sklearn.datasets.load_iris.html). Here, you will work with his measurements of petal length.\n",
    "\n",
    "Plot a histogram of the petal lengths of his 50 samples of _Iris versicolor_ using matplotlib/seaborn's default settings. Recall that to specify the default seaborn style, you can use `` sns.set() ``, where `` sns `` is the alias that `` seaborn `` is imported as.\n",
    "\n",
    "The subset of the data set containing the _Iris versicolor_ petal lengths in units of centimeters (cm) is stored in the NumPy array `` versicolor_petal_length ``.\n",
    "\n",
    "In the video, Justin plotted the histograms by using the `` pandas `` library and indexing the DataFrame to extract the desired column. Here, however, you only need to use the provided NumPy array. Also, Justin assigned his plotting statements (except for `` plt.show() ``) to the dummy variable `` _ ``. This is to prevent unnecessary output from being displayed. It is not required for your solutions to these exercises, however it is good practice to use it. Alternatively, if you are working in an interactive environment such as a Jupyter notebook, you could use a `` ; `` after your plotting statements to achieve the same effect. Justin prefers using `` _ ``. Therefore, you will see it used in the solution code.\n",
    "</div><div class=\"alert alert-block alert-warning\">\n",
    "\n",
    "\n",
    "#### Instructions\n",
    "\n",
    "\n",
    "*   Import `` matplotlib.pyplot `` and `` seaborn `` as their usual aliases (`` plt `` and `` sns ``).\n",
    "*   Use `` seaborn `` to set the plotting defaults.\n",
    "*   Plot a histogram of the _Iris versicolor_ petal lengths using `` plt.hist() `` and the provided NumPy array `` versicolor_petal_length ``.\n",
    "*   Show the histogram using `` plt.show() ``."
   ]
  },
  {
   "cell_type": "markdown",
   "id": "interim-instrument",
   "metadata": {
    "nbgrader": {
     "grade": false,
     "grade_id": "",
     "locked": true,
     "schema_version": 3,
     "solution": false,
     "task": false
    }
   },
   "source": [
    "```python \n",
    "# Import plotting modules\n",
    "\n",
    "\n",
    "\n",
    "# Set default Seaborn style\n",
    "\n",
    "\n",
    "# Plot histogram of versicolor petal lengths\n",
    "\n",
    "\n",
    "# Show histogram\n",
    "\n",
    "\n",
    "\n",
    "```"
   ]
  },
  {
   "cell_type": "code",
   "execution_count": null,
   "id": "expensive-serbia",
   "metadata": {
    "nbgrader": {
     "grade": false,
     "grade_id": "15",
     "locked": false,
     "schema_version": 3,
     "solution": true,
     "task": false
    }
   },
   "outputs": [],
   "source": [
    "# Import plotting modules\n",
    "import matplotlib.pyplot as plt\n",
    "import seaborn as sns\n",
    "\n",
    "# Set default Seaborn style\n",
    "sns.set()\n",
    "\n",
    "# Plot histogram of versicolor petal lengths\n",
    "_ = plt.hist(versicolor_petal_length)\n",
    "\n",
    "# Show histogram\n",
    "plt.show()\n"
   ]
  },
  {
   "cell_type": "markdown",
   "id": "dedicated-latin",
   "metadata": {},
   "source": [
    "<div class=\"alert alert-block alert-info\">\n",
    "\n",
    "### Chapter 1 -  Exercise 6\n",
    "### Axis labels!\n",
    "In the last exercise, you made a nice histogram of petal lengths of _Iris versicolor_, but __you didn't label the axes!__ That's ok; it's not your fault since we didn't ask you to. Now, add axis labels to the plot using `` plt.xlabel() `` and `` plt.ylabel() ``. Don't forget to add units and assign both statements to `` _ ``. The packages `` matplotlib.pyplot `` and `` seaborn `` are already imported with their standard aliases. This will be the case in what follows, unless specified otherwise.\n",
    "</div><div class=\"alert alert-block alert-warning\">\n",
    "\n",
    "\n",
    "#### Instructions\n",
    "\n",
    "\n",
    "*   Label the axes. Don't forget that you should always include units in your axis labels. Your \\\\(y\\\\)-axis label is just `` 'count' ``. Your \\\\(x\\\\)-axis label is `` 'petal length (cm)' ``. The units are essential!\n",
    "*   Display the plot constructed in the above steps using `` plt.show() ``."
   ]
  },
  {
   "cell_type": "markdown",
   "id": "permanent-begin",
   "metadata": {
    "nbgrader": {
     "grade": false,
     "grade_id": "15",
     "locked": false,
     "schema_version": 3,
     "solution": true,
     "task": false
    }
   },
   "source": [
    "```python \n",
    "# Plot histogram of versicolor petal lengths\n",
    "_ = plt.hist(versicolor_petal_length)\n",
    "\n",
    "# Label axes\n",
    "\n",
    "\n",
    "\n",
    "# Show histogram\n",
    "\n",
    "\n",
    "```"
   ]
  },
  {
   "cell_type": "code",
   "execution_count": null,
   "id": "square-popularity",
   "metadata": {
    "nbgrader": {
     "grade": false,
     "grade_id": "16",
     "locked": false,
     "schema_version": 3,
     "solution": true,
     "task": false
    }
   },
   "outputs": [],
   "source": [
    "# Plot histogram of versicolor petal lengths\n",
    "_ = plt.hist(versicolor_petal_length)\n",
    "\n",
    "# Label axes\n",
    "_ = plt.xlabel(petal length (cm))\n",
    "_ = plt.ylabel(count)\n",
    "\n",
    "# Show histogram\n",
    "plt.show()\n"
   ]
  },
  {
   "cell_type": "markdown",
   "id": "attached-validation",
   "metadata": {},
   "source": [
    "<div class=\"alert alert-block alert-info\">\n",
    "\n",
    "### Chapter 1 -  Exercise 7\n",
    "### Adjusting the number of bins in a histogram\n",
    "The histogram you just made had ten bins. This is the default of matplotlib. The \"square root rule\" is a commonly-used rule of thumb for choosing number of bins: choose the number of bins to be the square root of the number of samples. Plot the histogram of _Iris versicolor_ petal lengths again, this time using the square root rule for the number of bins. You specify the number of bins using the `` bins `` keyword argument of `` plt.hist() ``.\n",
    "\n",
    "The plotting utilities are already imported and the seaborn defaults already set. The variable you defined in the last exercise, `` versicolor_petal_length ``, is already in your namespace.\n",
    "</div><div class=\"alert alert-block alert-warning\">\n",
    "\n",
    "\n",
    "#### Instructions\n",
    "\n",
    "\n",
    "*   Import `` numpy `` as `` np ``. This gives access to the square root function, `` np.sqrt() ``.\n",
    "*   Determine how many data points you have using `` len() ``.\n",
    "*   Compute the number of bins using the square root rule.\n",
    "*   Convert the number of bins to an integer using the built in `` int() `` function.\n",
    "*   Generate the histogram and make sure to use the `` bins `` keyword argument.\n",
    "*   Hit 'Submit Answer' to plot the figure and see the fruit of your labors!"
   ]
  },
  {
   "cell_type": "markdown",
   "id": "entertaining-madrid",
   "metadata": {
    "nbgrader": {
     "grade": false,
     "grade_id": "16",
     "locked": false,
     "schema_version": 3,
     "solution": true,
     "task": false
    }
   },
   "source": [
    "```python \n",
    "# Import numpy\n",
    "\n",
    "\n",
    "# Compute number of data points: n_data\n",
    "\n",
    "\n",
    "# Number of bins is the square root of number of data points: n_bins\n",
    "\n",
    "\n",
    "# Convert number of bins to integer: n_bins\n",
    "\n",
    "\n",
    "# Plot the histogram\n",
    "\n",
    "\n",
    "# Label axes\n",
    "_ = plt.xlabel(petal length (cm))\n",
    "_ = plt.ylabel(count)\n",
    "\n",
    "# Show histogram\n",
    "plt.show()\n",
    "```"
   ]
  },
  {
   "cell_type": "code",
   "execution_count": null,
   "id": "limited-combining",
   "metadata": {
    "nbgrader": {
     "grade": false,
     "grade_id": "17",
     "locked": false,
     "schema_version": 3,
     "solution": true,
     "task": false
    }
   },
   "outputs": [],
   "source": [
    "# Import numpy\n",
    "import numpy as np\n",
    "\n",
    "# Compute number of data points: n_data\n",
    "n_data = len(versicolor_petal_length)\n",
    "\n",
    "# Number of bins is the square root of number of data points: n_bins\n",
    "n_bins = np.sqrt(n_data)\n",
    "\n",
    "# Convert number of bins to integer: n_bins\n",
    "n_bins = int(n_bins)\n",
    "\n",
    "# Plot the histogram\n",
    "_ = plt.hist(versicolor_petal_length, bins=n_bins)\n",
    "\n",
    "# Label axes\n",
    "_ = plt.xlabel(petal length (cm))\n",
    "_ = plt.ylabel(count)\n",
    "\n",
    "# Show histogram\n",
    "plt.show()"
   ]
  },
  {
   "cell_type": "markdown",
   "id": "hawaiian-toner",
   "metadata": {},
   "source": [
    "<div class=\"alert alert-block alert-info\">\n",
    "\n",
    "### Chapter 1 -  Exercise 9\n",
    "### Bee swarm plot\n",
    "Make a bee swarm plot of the iris petal lengths. Your x-axis should contain each of the three species, and the y-axis the petal lengths. A data frame containing the data is in your namespace as `` df ``.\n",
    "\n",
    "For your reference, the code Justin used to create the bee swarm plot in the video is provided below:\n",
    "\n",
    "In the IPython Shell, you can use `` sns.swarmplot? `` or `` help(sns.swarmplot) `` for more details on how to make bee swarm plots using seaborn.\n",
    "</div><div class=\"alert alert-block alert-warning\">\n",
    "\n",
    "\n",
    "#### Instructions\n",
    "\n",
    "\n",
    "*   In the IPython Shell, inspect the DataFrame `` df `` using `` df.head() ``. This will let you identify which column names you need to pass as the `` x `` and `` y ``keyword arguments in your call to `` sns.swarmplot() ``.\n",
    "*   Use `` sns.swarmplot() `` to make a bee swarm plot from the DataFrame containing the Fisher iris data set, `` df ``. The x-axis should contain each of the three species, and the y-axis should contain the petal lengths.\n",
    "*   Label the axes.\n",
    "*   Show your plot."
   ]
  },
  {
   "cell_type": "markdown",
   "id": "honey-california",
   "metadata": {
    "nbgrader": {
     "grade": false,
     "grade_id": "17",
     "locked": false,
     "schema_version": 3,
     "solution": true,
     "task": false
    }
   },
   "source": [
    "```python \n",
    "# Create bee swarm plot with Seaborns default settings\n",
    "\n",
    "\n",
    "# Label the axes\n",
    "\n",
    "\n",
    "# Show the plot\n",
    "\n",
    "\n",
    "```"
   ]
  },
  {
   "cell_type": "code",
   "execution_count": null,
   "id": "confident-routine",
   "metadata": {
    "nbgrader": {
     "grade": false,
     "grade_id": "19",
     "locked": false,
     "schema_version": 3,
     "solution": true,
     "task": false
    }
   },
   "outputs": [],
   "source": [
    "# Create bee swarm plot with Seaborns default settings\n",
    "_ = sns.swarmplot(x=species, y=petal length (cm), data=df)\n",
    "\n",
    "# Label the axes\n",
    "_ = plt.xlabel(species)\n",
    "_ = plt.ylabel(petal length (cm))\n",
    "\n",
    "# Show the plot\n",
    "plt.show()\n"
   ]
  },
  {
   "cell_type": "markdown",
   "id": "sunrise-marketplace",
   "metadata": {
    "nbgrader": {
     "grade": false,
     "grade_id": "19",
     "locked": false,
     "schema_version": 3,
     "solution": true,
     "task": false
    }
   },
   "source": [
    "<div class=\"alert alert-block alert-success\">\n",
    "\n",
    "### Chapter 1 -  Exercise 10\n",
    "### Interpreting a bee swarm plot\n",
    "Which of the following conclusions could you draw from the bee swarm plot of iris petal lengths you generated in the previous exercise? For your convenience, the bee swarm plot is regenerated and shown to the right.\n",
    "\n",
    "\n",
    "\n",
    "#### Instructions\n",
    "#### Possible Answers\n",
    "\n",
    "\n",
    "1. All , _I. versicolor_,  petals are shorter than , _I. virginica_,  petals.\n",
    "\n",
    "2. _I. setosa_,  petals have a broader range of lengths than the other two species.\n",
    "\n",
    "3. _I. virginica_,  petals tend to be the longest, and , _I. setosa_,  petals tend to be the shortest of the three species.\n",
    "\n",
    "4. _I. versicolor_,  is a hybrid of , _I. virginica_,  and , _I. setosa_, ."
   ]
  },
  {
   "cell_type": "markdown",
   "id": "lightweight-convertible",
   "metadata": {},
   "source": [
    "<div class=\"alert alert-block alert-info\">\n",
    "\n",
    "### Chapter 1 -  Exercise 12\n",
    "### Computing the ECDF\n",
    "In this exercise, you will write a function that takes as input a 1D array of data and then returns the `` x `` and `` y `` values of the ECDF. You will use this function over and over again throughout this course and its sequel. ECDFs are among the most important plots in statistical analysis. You can write your own function, `` foo(x,y) `` according to the following skeleton:\n",
    "\n",
    "The function `` foo() `` above takes two arguments `` a `` and `` b `` and returns two values `` x `` and `` y ``. The function header `` def foo(a,b): `` contains the function signature `` foo(a,b) ``, which consists of the function name, along with its parameters. For more on writing your own functions, see DataCamp's course [Python Data Science Toolbox (Part 1) here](https://www.datacamp.com/courses/python-data-science-toolbox-part-1)!\n",
    "</div><div class=\"alert alert-block alert-warning\">\n",
    "\n",
    "\n",
    "#### Instructions\n",
    "\n",
    "\n",
    "*   Define a function with the signature `` ecdf(data) ``. Within the function definition,\n",
    "    \n",
    "    *   Compute the number of data points, `` n ``, using the `` len() `` function.\n",
    "    *   The \\\\(x\\\\)-values are the sorted data. Use the `` np.sort() `` function to perform the sorting.\n",
    "    *   The \\\\(y\\\\) data of the ECDF go from `` 1/n `` to `` 1 `` in equally spaced increments. You can construct this using `` np.arange() ``. Remember, however, that the end value in `` np.arange() `` is not inclusive. Therefore, `` np.arange() `` will need to go from `` 1 `` to `` n+1 ``. Be sure to divide this by `` n ``.\n",
    "    *   The function returns the values `` x `` and `` y ``.\n",
    "    \n",
    "    \n",
    "    "
   ]
  },
  {
   "cell_type": "markdown",
   "id": "demonstrated-father",
   "metadata": {
    "nbgrader": {
     "grade": false,
     "grade_id": "19",
     "locked": false,
     "schema_version": 3,
     "solution": true,
     "task": false
    }
   },
   "source": [
    "```python \n",
    "def ecdf(data):\n",
    "    \\\\'\\\\'\\\\'Compute ECDF for a one-dimensional array of measurements.\\\\'\\\\'\\\\'\n",
    "    # Number of data points: n\n",
    "    ____ = ____(____)\n",
    "\n",
    "    # x-data for the ECDF: x\n",
    "    ____ = ____(____)\n",
    "\n",
    "    # y-data for the ECDF: y\n",
    "    ____ = ____(____, ____) / n\n",
    "\n",
    "    return x, y\n",
    "\n",
    "```"
   ]
  },
  {
   "cell_type": "code",
   "execution_count": null,
   "id": "cardiac-manitoba",
   "metadata": {
    "nbgrader": {
     "grade": false,
     "grade_id": "112",
     "locked": false,
     "schema_version": 3,
     "solution": true,
     "task": false
    }
   },
   "outputs": [],
   "source": [
    "def ecdf(data):\n",
    "    \\\\\\\\\\\\\\\\\\\\\\\\Compute ECDF for a one-dimensional array of measurements.\\\\\\\\\\\\\\\\\\\\\\\\\n",
    "    # Number of data points: n\n",
    "    n = len(data)\n",
    "\n",
    "    # x-data for the ECDF: x\n",
    "    x = np.sort(data)\n",
    "\n",
    "    # y-data for the ECDF: y\n",
    "    y = np.arange(1, n+1) / n\n",
    "\n",
    "    return x, y\n"
   ]
  },
  {
   "cell_type": "markdown",
   "id": "brilliant-melissa",
   "metadata": {},
   "source": [
    "<div class=\"alert alert-block alert-info\">\n",
    "\n",
    "### Chapter 1 -  Exercise 13\n",
    "### Plotting the ECDF\n",
    "You will now use your `` ecdf() `` function to compute the ECDF for the petal lengths of Anderson's _Iris versicolor_ flowers. You will then plot the ECDF. Recall that your `` ecdf() `` function returns two arrays so you will need to unpack them. An example of such unpacking is `` x, y = foo(data) ``, for some function `` foo() ``.\n",
    "</div><div class=\"alert alert-block alert-warning\">\n",
    "\n",
    "\n",
    "#### Instructions\n",
    "\n",
    "\n",
    "*   Use `` ecdf() `` to compute the ECDF of `` versicolor_petal_length ``. Unpack the output into `` x_vers `` and `` y_vers ``.\n",
    "*   Plot the ECDF as dots. Remember to include `` marker = '.' `` and `` linestyle = 'none' `` in addition to `` x_vers `` and `` y_vers `` as arguments inside `` plt.plot() ``.\n",
    "*   Label the axes. You can label the y-axis `` 'ECDF' ``.\n",
    "*   Show your plot."
   ]
  },
  {
   "cell_type": "markdown",
   "id": "metric-liberty",
   "metadata": {
    "nbgrader": {
     "grade": false,
     "grade_id": "112",
     "locked": false,
     "schema_version": 3,
     "solution": true,
     "task": false
    }
   },
   "source": [
    "```python \n",
    "# Compute ECDF for versicolor data: x_vers, y_vers\n",
    "____, ____ = ____(____)\n",
    "\n",
    "# Generate plot\n",
    "\n",
    "\n",
    "# Label the axes\n",
    "\n",
    "\n",
    "\n",
    "# Display the plot\n",
    "\n",
    "\n",
    "```"
   ]
  },
  {
   "cell_type": "code",
   "execution_count": null,
   "id": "endangered-photography",
   "metadata": {
    "nbgrader": {
     "grade": false,
     "grade_id": "113",
     "locked": false,
     "schema_version": 3,
     "solution": true,
     "task": false
    }
   },
   "outputs": [],
   "source": [
    "# Compute ECDF for versicolor data: x_vers, y_vers\n",
    "x_vers, y_vers = ecdf(versicolor_petal_length)\n",
    "\n",
    "# Generate plot\n",
    "_ = plt.plot(x_vers, y_vers, marker=., linestyle=none)\n",
    "\n",
    "# Label the axes\n",
    "_ = plt.xlabel(petal length (cm))\n",
    "_ = plt.ylabel(ECDF)\n",
    "\n",
    "# Display the plot\n",
    "plt.show()\n"
   ]
  },
  {
   "cell_type": "markdown",
   "id": "constant-speed",
   "metadata": {},
   "source": [
    "<div class=\"alert alert-block alert-info\">\n",
    "\n",
    "### Chapter 1 -  Exercise 14\n",
    "### Comparison of ECDFs\n",
    "ECDFs also allow you to compare two or more distributions (though plots get cluttered if you have too many). Here, you will plot ECDFs for the petal lengths of all three iris species. You already wrote a function to generate ECDFs so you can put it to good use!\n",
    "\n",
    "To overlay all three ECDFs on the same plot, you can use `` plt.plot() `` three times, once for each ECDF. Remember to include `` marker='.' `` and `` linestyle='none' `` as arguments inside `` plt.plot() ``.\n",
    "</div><div class=\"alert alert-block alert-warning\">\n",
    "\n",
    "\n",
    "#### Instructions\n",
    "\n",
    "\n",
    "*   Compute ECDFs for each of the three species using your `` ecdf() `` function. The variables `` setosa_petal_length ``, `` versicolor_petal_length ``, and `` virginica_petal_length `` are all in your namespace. Unpack the ECDFs into `` x_set, y_set ``, `` x_vers, y_vers `` and `` x_virg, y_virg ``, respectively.\n",
    "*   Plot all three ECDFs on the same plot as dots. To do this, you will need three `` plt.plot() `` commands. Assign the result of each to `` _ ``.\n",
    "*   A legend and axis labels have been added for you, so hit 'Submit Answer' to see all the ECDFs!"
   ]
  },
  {
   "cell_type": "markdown",
   "id": "aboriginal-transsexual",
   "metadata": {
    "nbgrader": {
     "grade": false,
     "grade_id": "113",
     "locked": false,
     "schema_version": 3,
     "solution": true,
     "task": false
    }
   },
   "source": [
    "```python \n",
    "# Compute ECDFs\n",
    "\n",
    "\n",
    "\n",
    "\n",
    "# Plot all ECDFs on the same plot\n",
    "\n",
    "\n",
    "\n",
    "\n",
    "# Annotate the plot\n",
    "plt.legend((setosa, versicolor, virginica), loc=lower right)\n",
    "_ = plt.xlabel(petal length (cm))\n",
    "_ = plt.ylabel(ECDF)\n",
    "\n",
    "# Display the plot\n",
    "plt.show()\n",
    "```"
   ]
  },
  {
   "cell_type": "code",
   "execution_count": null,
   "id": "neural-variable",
   "metadata": {
    "nbgrader": {
     "grade": false,
     "grade_id": "114",
     "locked": false,
     "schema_version": 3,
     "solution": true,
     "task": false
    }
   },
   "outputs": [],
   "source": [
    "# Compute ECDFs\n",
    "x_set, y_set = ecdf(setosa_petal_length)\n",
    "x_vers, y_vers = ecdf(versicolor_petal_length)\n",
    "x_virg, y_virg = ecdf(virginica_petal_length)\n",
    "\n",
    "# Plot all ECDFs on the same plot\n",
    "_ = plt.plot(x_set, y_set, marker=., linestyle=none)\n",
    "_ = plt.plot(x_vers, y_vers, marker=., linestyle=none)\n",
    "_ = plt.plot(x_virg, y_virg, marker=., linestyle=none)\n",
    "\n",
    "# Annotate the plot\n",
    "_ = plt.legend((setosa, versicolor, virginica), loc=lower right)\n",
    "_ = plt.xlabel(petal length (cm))\n",
    "_ = plt.ylabel(ECDF)\n",
    "\n",
    "# Display the plot\n",
    "plt.show()"
   ]
  },
  {
   "cell_type": "markdown",
   "id": "italian-breakfast",
   "metadata": {},
   "source": [
    "<div class=\"alert alert-block alert-info\">\n",
    "\n",
    "### Chapter 2 -  Exercise 3\n",
    "### Computing means\n",
    "The mean of all measurements gives an indication of the typical magnitude of a measurement. It is computed using `` np.mean() ``.\n",
    "</div><div class=\"alert alert-block alert-warning\">\n",
    "\n",
    "\n",
    "#### Instructions\n",
    "\n",
    "\n",
    "*   Compute the mean petal length of _Iris versicolor_ from Anderson's classic data set. The variable `` versicolor_petal_length `` is provided in your namespace. Assign the mean to `` mean_length_vers ``.\n",
    "*   Hit submit to print the result."
   ]
  },
  {
   "cell_type": "markdown",
   "id": "chemical-answer",
   "metadata": {
    "nbgrader": {
     "grade": false,
     "grade_id": "114",
     "locked": false,
     "schema_version": 3,
     "solution": true,
     "task": false
    }
   },
   "source": [
    "```python \n",
    "# Compute the mean: mean_length_vers\n",
    "\n",
    "\n",
    "# Print the result with some nice formatting\n",
    "print(I. versicolor:, mean_length_vers, cm)\n",
    "```"
   ]
  },
  {
   "cell_type": "code",
   "execution_count": null,
   "id": "minor-floating",
   "metadata": {
    "nbgrader": {
     "grade": false,
     "grade_id": "23",
     "locked": false,
     "schema_version": 3,
     "solution": true,
     "task": false
    }
   },
   "outputs": [],
   "source": [
    "# Compute the mean\n",
    "mean_length_vers = np.mean(versicolor_petal_length)\n",
    "\n",
    "# Print the results with some nice formatting\n",
    "print(I. versicolor:, mean_length_vers, cm)"
   ]
  },
  {
   "cell_type": "markdown",
   "id": "derived-traveler",
   "metadata": {},
   "source": [
    "<div class=\"alert alert-block alert-info\">\n",
    "\n",
    "### Chapter 2 -  Exercise 5\n",
    "### Computing percentiles\n",
    "In this exercise, you will compute the percentiles of petal length of _Iris versicolor_.\n",
    "</div><div class=\"alert alert-block alert-warning\">\n",
    "\n",
    "\n",
    "#### Instructions\n",
    "\n",
    "\n",
    "*   Create `` percentiles ``, a NumPy array of percentiles you want to compute. These are the 2.5th, 25th, 50th, 75th, and 97.5th. You can do so by creating a list containing these ints/floats and convert the list to a NumPy array using `` np.array() ``. For example, `` np.array([30, 50]) `` would create an array consisting of the 30th and 50th percentiles.\n",
    "*   Use `` np.percentile() `` to compute the percentiles of the petal lengths from the _Iris versicolor_ samples. The variable `` versicolor_petal_length `` is in your namespace.\n",
    "*   Print the percentiles."
   ]
  },
  {
   "cell_type": "markdown",
   "id": "english-reynolds",
   "metadata": {
    "nbgrader": {
     "grade": false,
     "grade_id": "23",
     "locked": false,
     "schema_version": 3,
     "solution": true,
     "task": false
    }
   },
   "source": [
    "```python \n",
    "# Specify array of percentiles: percentiles\n",
    "\n",
    "\n",
    "# Compute percentiles: ptiles_vers\n",
    "\n",
    "\n",
    "# Print the result\n",
    "\n",
    "```"
   ]
  },
  {
   "cell_type": "code",
   "execution_count": null,
   "id": "superb-compilation",
   "metadata": {
    "nbgrader": {
     "grade": false,
     "grade_id": "25",
     "locked": false,
     "schema_version": 3,
     "solution": true,
     "task": false
    }
   },
   "outputs": [],
   "source": [
    "# Specify array of percentiles: percentiles\n",
    "percentiles = np.array([2.5, 25, 50, 75, 97.5])\n",
    "\n",
    "# Compute percentiles: ptiles_vers\n",
    "ptiles_vers = np.percentile(versicolor_petal_length, percentiles)\n",
    "\n",
    "# Print the result\n",
    "print(ptiles_vers)"
   ]
  },
  {
   "cell_type": "markdown",
   "id": "green-motor",
   "metadata": {},
   "source": [
    "<div class=\"alert alert-block alert-info\">\n",
    "\n",
    "### Chapter 2 -  Exercise 6\n",
    "### Comparing percentiles to ECDF\n",
    "To see how the percentiles relate to the ECDF, you will plot the percentiles of _Iris versicolor_ petal lengths you calculated in the last exercise on the ECDF plot you generated in chapter 1. The percentile variables from the previous exercise are available in the workspace as `` ptiles_vers `` and `` percentiles ``.\n",
    "\n",
    "Note that to ensure the Y-axis of the ECDF plot remains between 0 and 1, you will need to rescale the `` percentiles `` array accordingly - in this case, dividing it by 100.\n",
    "</div><div class=\"alert alert-block alert-warning\">\n",
    "\n",
    "\n",
    "#### Instructions\n",
    "\n",
    "\n",
    "*   Plot the percentiles as red diamonds on the ECDF. Pass the x and y co-ordinates - `` ptiles_vers `` and `` percentiles/100 `` - as positional arguments and specify the `` marker='D' ``, `` color='red' `` and `` linestyle='none' `` keyword arguments. The argument for the y-axis - `` percentiles/100 `` has been specified for you.\n",
    "*   Display the plot."
   ]
  },
  {
   "cell_type": "markdown",
   "id": "found-supply",
   "metadata": {
    "nbgrader": {
     "grade": false,
     "grade_id": "25",
     "locked": false,
     "schema_version": 3,
     "solution": true,
     "task": false
    }
   },
   "source": [
    "```python \n",
    "# Plot the ECDF\n",
    "_ = plt.plot(x_vers, y_vers, .)\n",
    "_ = plt.xlabel(petal length (cm))\n",
    "_ = plt.ylabel(ECDF)\n",
    "\n",
    "# Overlay percentiles as red diamonds.\n",
    "_ = plt.plot(____, percentiles/100, ____=D, ____=red,\n",
    "         ____=____)\n",
    "\n",
    "# Show the plot\n",
    "\n",
    "\n",
    "```"
   ]
  },
  {
   "cell_type": "code",
   "execution_count": null,
   "id": "multiple-buddy",
   "metadata": {
    "nbgrader": {
     "grade": false,
     "grade_id": "26",
     "locked": false,
     "schema_version": 3,
     "solution": true,
     "task": false
    }
   },
   "outputs": [],
   "source": [
    "# Plot the ECDF\n",
    "_ = plt.plot(x_vers, y_vers, .)\n",
    "_ = plt.xlabel(petal length (cm))\n",
    "_ = plt.ylabel(ECDF)\n",
    "\n",
    "# Overlay percentiles as red xs\n",
    "_ = plt.plot(ptiles_vers, percentiles/100, marker=D, color=red,\n",
    "         linestyle=none)\n",
    "\n",
    "# Show the plot\n",
    "plt.show()\n"
   ]
  },
  {
   "cell_type": "markdown",
   "id": "neutral-poland",
   "metadata": {},
   "source": [
    "<div class=\"alert alert-block alert-info\">\n",
    "\n",
    "### Chapter 2 -  Exercise 7\n",
    "### Box-and-whisker plot\n",
    "Making a box plot for the petal lengths is unnecessary because the iris data set is not too large and the bee swarm plot works fine. However, it is always good to get some practice. Make a box plot of the iris petal lengths. You have a pandas DataFrame, `` df ``, which contains the petal length data, in your namespace. Inspect the data frame `` df `` in the IPython shell using `` df.head() `` to make sure you know what the pertinent columns are.\n",
    "\n",
    "For your reference, the code used to produce the box plot in the video is provided below:\n",
    "\n",
    "`` _ = sns.boxplot(x='east_west', y='dem_share', data=df_all_states) ``\n",
    "\n",
    "`` _ = plt.xlabel('region') ``\n",
    "\n",
    "`` _ = plt.ylabel('percent of vote for Obama') ``\n",
    "\n",
    "In the IPython Shell, you can use `` sns.boxplot? `` or `` help(sns.boxplot) `` for more details on how to make box plots using seaborn.\n",
    "</div><div class=\"alert alert-block alert-warning\">\n",
    "\n",
    "\n",
    "#### Instructions\n",
    "\n",
    "\n",
    "*   The set-up is exactly the same as for the bee swarm plot; you just call `` sns.boxplot() `` with the same keyword arguments as you would `` sns.swarmplot() ``. The x-axis is `` 'species' `` and y-axis is `` 'petal length (cm)' ``.\n",
    "*   Don't forget to label your axes!\n",
    "*   Display the figure using the normal call."
   ]
  },
  {
   "cell_type": "markdown",
   "id": "natural-liechtenstein",
   "metadata": {
    "nbgrader": {
     "grade": false,
     "grade_id": "26",
     "locked": false,
     "schema_version": 3,
     "solution": true,
     "task": false
    }
   },
   "source": [
    "```python \n",
    "# Create box plot with Seaborns default settings\n",
    "\n",
    "\n",
    "# Label the axes\n",
    "\n",
    "\n",
    "\n",
    "# Show the plot\n",
    "\n",
    "\n",
    "```"
   ]
  },
  {
   "cell_type": "code",
   "execution_count": null,
   "id": "flush-collector",
   "metadata": {
    "nbgrader": {
     "grade": false,
     "grade_id": "27",
     "locked": false,
     "schema_version": 3,
     "solution": true,
     "task": false
    }
   },
   "outputs": [],
   "source": [
    "# Create box plot with Seaborns default settings\n",
    "_ = sns.boxplot(x=species, y=petal length (cm), data=df)\n",
    "\n",
    "# Label the axes\n",
    "_ = plt.xlabel(species)\n",
    "_ = plt.ylabel(petal length (cm))\n",
    "\n",
    "# Show the plot\n",
    "plt.show()\n"
   ]
  },
  {
   "cell_type": "markdown",
   "id": "arabic-nancy",
   "metadata": {},
   "source": [
    "<div class=\"alert alert-block alert-info\">\n",
    "\n",
    "### Chapter 2 -  Exercise 9\n",
    "### Computing the variance\n",
    "It is important to have some understanding of what commonly-used functions are doing under the hood. Though you may already know how to compute variances, this is a beginner course that does not assume so. In this exercise, we will explicitly compute the variance of the petal length of _Iris veriscolor_ using the equations discussed in the videos. We will then use `` np.var() `` to compute it.\n",
    "</div><div class=\"alert alert-block alert-warning\">\n",
    "\n",
    "\n",
    "#### Instructions\n",
    "\n",
    "\n",
    "*   Create an array called `` differences `` that is the difference between the petal lengths (`` versicolor_petal_length ``) and the mean petal length. The variable `` versicolor_petal_length `` is already in your namespace as a NumPy array so you can take advantage of NumPy's vectorized operations.\n",
    "*   Square each element in this array. For example, `` x**2 `` squares each element in the array `` x ``. Store the result as `` diff_sq ``.\n",
    "*   Compute the mean of the elements in `` diff_sq `` using `` np.mean() ``. Store the result as `` variance_explicit ``.\n",
    "*   Compute the variance of `` versicolor_petal_length `` using `` np.var() ``. Store the result as `` variance_np ``.\n",
    "*   Print both `` variance_explicit `` and `` variance_np `` in one `` print `` call to make sure they are consistent."
   ]
  },
  {
   "cell_type": "markdown",
   "id": "directed-signature",
   "metadata": {
    "nbgrader": {
     "grade": false,
     "grade_id": "27",
     "locked": false,
     "schema_version": 3,
     "solution": true,
     "task": false
    }
   },
   "source": [
    "```python \n",
    "# Array of differences to mean: differences\n",
    "\n",
    "\n",
    "# Square the differences: diff_sq\n",
    "\n",
    "\n",
    "# Compute the mean square difference: variance_explicit\n",
    "\n",
    "\n",
    "# Compute the variance using NumPy: variance_np\n",
    "\n",
    "\n",
    "# Print the results\n",
    "\n",
    "\n",
    "```"
   ]
  },
  {
   "cell_type": "code",
   "execution_count": null,
   "id": "listed-diving",
   "metadata": {
    "nbgrader": {
     "grade": false,
     "grade_id": "29",
     "locked": false,
     "schema_version": 3,
     "solution": true,
     "task": false
    }
   },
   "outputs": [],
   "source": [
    "# Array of differences to mean: differences\n",
    "differences = versicolor_petal_length - np.mean(versicolor_petal_length)\n",
    "\n",
    "# Square the differences: diff_sq\n",
    "diff_sq = differences**2\n",
    "\n",
    "# Compute the mean square difference: variance_explicit\n",
    "variance_explicit = np.mean(diff_sq)\n",
    "\n",
    "# Compute the variance using NumPy: variance_np\n",
    "variance_np = np.var(versicolor_petal_length)\n",
    "\n",
    "# Print the results\n",
    "print(variance_explicit, variance_np)\n"
   ]
  },
  {
   "cell_type": "markdown",
   "id": "employed-oriental",
   "metadata": {},
   "source": [
    "<div class=\"alert alert-block alert-info\">\n",
    "\n",
    "### Chapter 2 -  Exercise 10\n",
    "### The standard deviation and the variance\n",
    "As mentioned in the video, the standard deviation is the square root of the variance. You will see this for yourself by computing the standard deviation using `` np.std() `` and comparing it to what you get by computing the variance with `` np.var() `` and then computing the square root.\n",
    "</div><div class=\"alert alert-block alert-warning\">\n",
    "\n",
    "\n",
    "#### Instructions\n",
    "\n",
    "\n",
    "*   \n",
    "    \n",
    "    Compute the variance of the data in the `` versicolor_petal_length `` array using `` np.var() `` and store it in a variable called `` variance ``.\n",
    "    \n",
    "    \n",
    "*   \n",
    "    \n",
    "    Print the square root of this value.\n",
    "    \n",
    "    \n",
    "*   \n",
    "    \n",
    "    Print the standard deviation of the data in the `` versicolor_petal_length `` array using `` np.std() ``.\n",
    "    \n",
    "    "
   ]
  },
  {
   "cell_type": "markdown",
   "id": "alpha-adjustment",
   "metadata": {
    "nbgrader": {
     "grade": false,
     "grade_id": "29",
     "locked": false,
     "schema_version": 3,
     "solution": true,
     "task": false
    }
   },
   "source": [
    "```python \n",
    "# Compute the variance: variance\n",
    "\n",
    "\n",
    "# Print the square root of the variance\n",
    "\n",
    "\n",
    "# Print the standard deviation\n",
    "\n",
    "```"
   ]
  },
  {
   "cell_type": "code",
   "execution_count": null,
   "id": "forbidden-involvement",
   "metadata": {
    "nbgrader": {
     "grade": false,
     "grade_id": "210",
     "locked": false,
     "schema_version": 3,
     "solution": true,
     "task": false
    }
   },
   "outputs": [],
   "source": [
    "# Compute the variance: variance\n",
    "variance = np.var(versicolor_petal_length)\n",
    "\n",
    "# Print the square root of the variance\n",
    "print(np.sqrt(variance))\n",
    "\n",
    "# Print the standard deviation\n",
    "print(np.std(versicolor_petal_length))"
   ]
  },
  {
   "cell_type": "markdown",
   "id": "illegal-mailing",
   "metadata": {},
   "source": [
    "<div class=\"alert alert-block alert-info\">\n",
    "\n",
    "### Chapter 2 -  Exercise 12\n",
    "### Scatter plots\n",
    "When you made bee swarm plots, box plots, and ECDF plots in previous exercises, you compared the petal lengths of different species of iris. But what if you want to compare two properties of a single species? This is exactly what we will do in this exercise. We will make a __scatter plot__ of the petal length and width measurements of Anderson's _Iris versicolor_ flowers. If the flower scales (that is, it preserves its proportion as it grows), we would expect the length and width to be correlated.\n",
    "\n",
    "For your reference, the code used to produce the scatter plot in the video is provided below:\n",
    "\n",
    "`` _ = plt.plot(total_votes/1000, dem_share, marker='.', linestyle='none') ``\n",
    "\n",
    "`` _ = plt.xlabel('total votes (thousands)') ``\n",
    "\n",
    "`` _ = plt.ylabel('percent of vote for Obama') ``\n",
    "</div><div class=\"alert alert-block alert-warning\">\n",
    "\n",
    "\n",
    "#### Instructions\n",
    "\n",
    "\n",
    "*   Use `` plt.plot() `` with the appropriate keyword arguments to make a scatter plot of _versicolor_ petal length (x-axis) versus petal width (y-axis). The variables `` versicolor_petal_length `` and `` versicolor_petal_width `` are already in your namespace. Do not forget to use the `` marker='.' `` and `` linestyle='none' `` keyword arguments.\n",
    "*   Label the axes.\n",
    "*   Display the plot."
   ]
  },
  {
   "cell_type": "markdown",
   "id": "second-audience",
   "metadata": {
    "nbgrader": {
     "grade": false,
     "grade_id": "210",
     "locked": false,
     "schema_version": 3,
     "solution": true,
     "task": false
    }
   },
   "source": [
    "```python \n",
    "# Make a scatter plot\n",
    "\n",
    "\n",
    "\n",
    "# Label the axes\n",
    "\n",
    "\n",
    "\n",
    "# Show the result\n",
    "\n",
    "```"
   ]
  },
  {
   "cell_type": "code",
   "execution_count": null,
   "id": "bright-metropolitan",
   "metadata": {
    "nbgrader": {
     "grade": false,
     "grade_id": "212",
     "locked": false,
     "schema_version": 3,
     "solution": true,
     "task": false
    }
   },
   "outputs": [],
   "source": [
    "# Make a scatter plot\n",
    "_ = plt.plot(versicolor_petal_length, versicolor_petal_width,\n",
    "             marker=., linestyle=none)\n",
    "\n",
    "# Label the axes\n",
    "_ = plt.xlabel(petal length (cm))\n",
    "_ = plt.ylabel(petal width (cm))\n",
    "\n",
    "# Show the result\n",
    "plt.show()\n"
   ]
  },
  {
   "cell_type": "markdown",
   "id": "careful-pleasure",
   "metadata": {
    "nbgrader": {
     "grade": false,
     "grade_id": "212",
     "locked": false,
     "schema_version": 3,
     "solution": true,
     "task": false
    }
   },
   "source": [
    "<div class=\"alert alert-block alert-success\">\n",
    "\n",
    "### Chapter 2 -  Exercise 13\n",
    "### Variance and covariance by looking\n",
    "Consider four scatter plots of \\\\(x\\\\)-\\\\(y\\\\) data, appearing to the right. Which has, respectively,\n",
    "\n",
    "\n",
    "\n",
    "#### Instructions\n",
    "#### Possible Answers\n",
    "\n",
    "\n",
    "1. a, c, b\n",
    "\n",
    "2. d, c, a\n",
    "\n",
    "3. d, c, b\n",
    "\n",
    "4. d, d, b"
   ]
  },
  {
   "cell_type": "markdown",
   "id": "improved-tracker",
   "metadata": {},
   "source": [
    "<div class=\"alert alert-block alert-info\">\n",
    "\n",
    "### Chapter 2 -  Exercise 14\n",
    "### Computing the covariance\n",
    "The covariance may be computed using the Numpy function `` np.cov() ``. For example, we have two sets of data `` x `` and `` y ``, `` np.cov(x, y) `` returns a 2D array where entries `` [0,1] `` and `` [1,0] `` are the covariances. Entry `` [0,0] `` is the variance of the data in `` x ``, and entry `` [1,1] `` is the variance of the data in `` y ``. This 2D output array is called the __covariance matrix__, since it organizes the self- and covariance.\n",
    "\n",
    "To remind you how the _I. versicolor_ petal length and width are related, we include the scatter plot you generated in a previous exercise.\n",
    "</div><div class=\"alert alert-block alert-warning\">\n",
    "\n",
    "\n",
    "#### Instructions\n",
    "\n",
    "\n",
    "*   Use `` np.cov() `` to compute the covariance matrix for the petal length (`` versicolor_petal_length ``) and width (`` versicolor_petal_width ``) of _I. versicolor_. \n",
    "*   Print the covariance matrix.\n",
    "*   Extract the covariance from entry `` [0,1] `` of the covariance matrix. Note that by symmetry, entry `` [1,0] `` is the same as entry `` [0,1] ``.\n",
    "*   Print the covariance."
   ]
  },
  {
   "cell_type": "markdown",
   "id": "instrumental-confidence",
   "metadata": {
    "nbgrader": {
     "grade": false,
     "grade_id": "212",
     "locked": false,
     "schema_version": 3,
     "solution": true,
     "task": false
    }
   },
   "source": [
    "```python \n",
    "# Compute the covariance matrix: covariance_matrix\n",
    "\n",
    "\n",
    "# Print covariance matrix\n",
    "\n",
    "\n",
    "# Extract covariance of length and width of petals: petal_cov\n",
    "\n",
    "\n",
    "# Print the length/width covariance\n",
    "\n",
    "\n",
    "```"
   ]
  },
  {
   "cell_type": "code",
   "execution_count": null,
   "id": "planned-elimination",
   "metadata": {
    "nbgrader": {
     "grade": false,
     "grade_id": "214",
     "locked": false,
     "schema_version": 3,
     "solution": true,
     "task": false
    }
   },
   "outputs": [],
   "source": [
    "# Compute the covariance matrix: covariance_matrix\n",
    "covariance_matrix = np.cov(versicolor_petal_length, versicolor_petal_width)\n",
    "\n",
    "# Print covariance matrix\n",
    "print(covariance_matrix)\n",
    "\n",
    "# Extract covariance of length and width of petals: petal_cov\n",
    "petal_cov = covariance_matrix[0,1]\n",
    "\n",
    "# Print the length/width covariance\n",
    "print(petal_cov)\n"
   ]
  },
  {
   "cell_type": "markdown",
   "id": "unlikely-heading",
   "metadata": {},
   "source": [
    "<div class=\"alert alert-block alert-info\">\n",
    "\n",
    "### Chapter 2 -  Exercise 15\n",
    "### Computing the Pearson correlation coefficient\n",
    "As mentioned in the video, the Pearson correlation coefficient, also called the Pearson r, is often easier to interpret than the covariance. It is computed using the `` np.corrcoef() `` function. Like `` np.cov() ``, it takes two arrays as arguments and returns a 2D array. Entries `` [0,0] `` and `` [1,1] `` are necessarily equal to `` 1 `` (can you think about why?), and the value we are after is entry `` [0,1] ``.\n",
    "\n",
    "In this exercise, you will write a function, `` pearson_r(x, y) `` that takes in two arrays and returns the Pearson correlation coefficient. You will then use this function to compute it for the petal lengths and widths of _I. versicolor_.\n",
    "\n",
    "Again, we include the scatter plot you generated in a previous exercise to remind you how the petal width and length are related.\n",
    "</div><div class=\"alert alert-block alert-warning\">\n",
    "\n",
    "\n",
    "#### Instructions\n",
    "\n",
    "\n",
    "*   Define a function with signature `` pearson_r(x, y) ``.\n",
    "    \n",
    "    *   Use `` np.corrcoef() `` to compute the correlation matrix of `` x `` and `` y `` (pass them to `` np.corrcoef() `` in that order).\n",
    "    *   The function returns entry `` [0,1] `` of the correlation matrix.\n",
    "    \n",
    "    \n",
    "    \n",
    "*   Compute the Pearson correlation between the data in the arrays `` versicolor_petal_length `` and `` versicolor_petal_width ``. Assign the result to `` r ``.\n",
    "*   Print the result."
   ]
  },
  {
   "cell_type": "markdown",
   "id": "communist-garlic",
   "metadata": {
    "nbgrader": {
     "grade": false,
     "grade_id": "214",
     "locked": false,
     "schema_version": 3,
     "solution": true,
     "task": false
    }
   },
   "source": [
    "```python \n",
    "def ____(____, ____):\n",
    "    \\\\'\\\\'\\\\'Compute Pearson correlation coefficient between two arrays.\\\\'\\\\'\\\\'\n",
    "    # Compute correlation matrix: corr_mat\n",
    "\n",
    "\n",
    "    # Return entry [0,1]\n",
    "    return corr_mat[0,1]\n",
    "\n",
    "# Compute Pearson correlation coefficient for I. versicolor: r\n",
    "\n",
    "\n",
    "# Print the result\n",
    "\n",
    "```"
   ]
  },
  {
   "cell_type": "code",
   "execution_count": null,
   "id": "consecutive-greeting",
   "metadata": {
    "nbgrader": {
     "grade": false,
     "grade_id": "215",
     "locked": false,
     "schema_version": 3,
     "solution": true,
     "task": false
    }
   },
   "outputs": [],
   "source": [
    "def pearson_r(x, y):\n",
    "    \\\\\\\\\\\\\\\\\\\\\\\\Compute Pearson correlation coefficient between two arrays.\\\\\\\\\\\\\\\\\\\\\\\\\n",
    "    # Compute correlation matrix: corr_mat\n",
    "    corr_mat = np.corrcoef(x, y)\n",
    "\n",
    "    # Return entry [0,1]\n",
    "    return corr_mat[0,1]\n",
    "\n",
    "# Compute Pearson correlation coefficient for I. versicolor\n",
    "r = pearson_r(versicolor_petal_width, versicolor_petal_length)\n",
    "\n",
    "# Print the result\n",
    "print(r)"
   ]
  },
  {
   "cell_type": "markdown",
   "id": "quality-invite",
   "metadata": {},
   "source": [
    "<div class=\"alert alert-block alert-info\">\n",
    "\n",
    "### Chapter 3 -  Exercise 5\n",
    "### Generating random numbers using the np.random module\n",
    "We will be hammering the `` np.random `` module for the rest of this course and its sequel. Actually, you will probably call functions from this module more than any other while wearing your hacker statistician hat. Let's start by taking its simplest function, `` np.random.random() `` for a test spin. The function returns a random number between zero and one. Call `` np.random.random() `` a few times in the IPython shell. You should see numbers jumping around between zero and one.\n",
    "\n",
    "In this exercise, we'll generate lots of random numbers between zero and one, and then plot a histogram of the results. If the numbers are truly random, all bars in the histogram should be of (close to) equal height.\n",
    "\n",
    "You may have noticed that, in the video, Justin generated 4 random numbers by passing the keyword argument `` size=4 `` to `` np.random.random() ``. Such an approach is more efficient than a `` for `` loop: in this exercise, however, you will write a `` for `` loop to experience hacker statistics as the practice of repeating an experiment over and over again.\n",
    "</div><div class=\"alert alert-block alert-warning\">\n",
    "\n",
    "\n",
    "#### Instructions\n",
    "\n",
    "\n",
    "*   Seed the random number generator using the seed `` 42 ``.\n",
    "*   Initialize an empty array, `` random_numbers ``, of 100,000 entries to store the random numbers. Make sure you use `` np.empty(100000) `` to do this.\n",
    "*   Write a `` for `` loop to draw 100,000 random numbers using `` np.random.random() ``, storing them in the `` random_numbers `` array. To do so, loop over `` range(100000) ``.\n",
    "*   Plot a histogram of `` random_numbers ``. It is not necessary to label the axes in this case because we are just checking the random number generator. Hit 'Submit Answer' to show your plot."
   ]
  },
  {
   "cell_type": "markdown",
   "id": "premium-journalist",
   "metadata": {
    "nbgrader": {
     "grade": false,
     "grade_id": "215",
     "locked": false,
     "schema_version": 3,
     "solution": true,
     "task": false
    }
   },
   "source": [
    "```python \n",
    "# Seed the random number generator\n",
    "\n",
    "\n",
    "# Initialize random numbers: random_numbers\n",
    "random_numbers = ____\n",
    "\n",
    "# Generate random numbers by looping over range(100000)\n",
    "for i in ____:\n",
    "    random_numbers[i] = ____\n",
    "\n",
    "# Plot a histogram\n",
    "_ = plt.hist(____)\n",
    "\n",
    "# Show the plot\n",
    "plt.show()\n",
    "\n",
    "```"
   ]
  },
  {
   "cell_type": "code",
   "execution_count": null,
   "id": "anonymous-hearts",
   "metadata": {
    "nbgrader": {
     "grade": false,
     "grade_id": "35",
     "locked": false,
     "schema_version": 3,
     "solution": true,
     "task": false
    }
   },
   "outputs": [],
   "source": [
    "# Seed the random number generator\n",
    "np.random.seed(42)\n",
    "\n",
    "# Initialize random numbers: random_numbers\n",
    "random_numbers = np.empty(100000)\n",
    "\n",
    "# Generate random numbers by looping over range(100000)\n",
    "for i in range(100000):\n",
    "    random_numbers[i] = np.random.random()\n",
    "\n",
    "# Plot a histogram\n",
    "_ = plt.hist(random_numbers)\n",
    "\n",
    "# Show the plot\n",
    "plt.show()\n"
   ]
  },
  {
   "cell_type": "markdown",
   "id": "intended-contamination",
   "metadata": {},
   "source": [
    "<div class=\"alert alert-block alert-info\">\n",
    "\n",
    "### Chapter 3 -  Exercise 6\n",
    "### The np.random module and Bernoulli trials\n",
    "You can think of a Bernoulli trial as a flip of a possibly biased coin. Specifically, each coin flip has a probability \\\\(p\\\\) of landing heads (success) and probability \\\\(1-p\\\\) of landing tails (failure). In this exercise, you will write a function to perform `` n `` Bernoulli trials, `` perform_bernoulli_trials(n, p) ``, which returns the number of successes out of `` n `` Bernoulli trials, each of which has probability `` p `` of success. To perform each Bernoulli trial, use the `` np.random.random() `` function, which returns a random number between zero and one.\n",
    "</div><div class=\"alert alert-block alert-warning\">\n",
    "\n",
    "\n",
    "#### Instructions\n",
    "\n",
    "\n",
    "*   Define a function with signature `` perform_bernoulli_trials(n, p) ``.\n",
    "    \n",
    "    *   Initialize to zero a variable `` n_success `` the counter of `` True ``s, which are Bernoulli trial successes.\n",
    "    *   Write a `` for `` loop where you perform a Bernoulli trial in each iteration and increment the number of success if the result is `` True ``. Perform `` n `` iterations by looping over `` range(n) ``.\n",
    "        \n",
    "        *   To perform a Bernoulli trial, choose a random number between zero and one using `` np.random.random() ``. If the number you chose is less than `` p ``, increment `` n_success `` (use the `` += 1 `` operator to achieve this).\n",
    "        \n",
    "        \n",
    "        \n",
    "    *   The function returns the number of successes `` n_success ``.\n",
    "    \n",
    "    \n",
    "    "
   ]
  },
  {
   "cell_type": "markdown",
   "id": "parliamentary-static",
   "metadata": {
    "nbgrader": {
     "grade": false,
     "grade_id": "35",
     "locked": false,
     "schema_version": 3,
     "solution": true,
     "task": false
    }
   },
   "source": [
    "```python \n",
    "def perform_bernoulli_trials(n, p):\n",
    "    \\\\'\\\\'\\\\'Perform n Bernoulli trials with success probability p\n",
    "    and return number of successes.\\\\'\\\\'\\\\'\n",
    "    # Initialize number of successes: n_success\n",
    "    n_success = ____\n",
    "\n",
    "    # Perform trials\n",
    "    for i in ____:\n",
    "        # Choose random number between zero and one: random_number\n",
    "\n",
    "\n",
    "        # If less than p, its a success so add one to n_success\n",
    "        if ____:\n",
    "            ____\n",
    "\n",
    "    return n_success\n",
    "```"
   ]
  },
  {
   "cell_type": "code",
   "execution_count": null,
   "id": "efficient-palace",
   "metadata": {
    "nbgrader": {
     "grade": false,
     "grade_id": "36",
     "locked": false,
     "schema_version": 3,
     "solution": true,
     "task": false
    }
   },
   "outputs": [],
   "source": [
    "def perform_bernoulli_trials(n, p):\n",
    "    \\\\\\\\\\\\\\\\\\\\\\\\Perform n Bernoulli trials with success probability p\n",
    "    and return number of successes.\\\\\\\\\\\\\\\\\\\\\\\\\n",
    "    # Initialize number of successes: n_success\n",
    "    n_success = 0\n",
    "\n",
    "    # Perform trials\n",
    "    for i in range(n):\n",
    "        # Choose random number between zero and one: random_number\n",
    "        random_number = np.random.random()\n",
    "\n",
    "        # If less than p, its a success  so add one to n_success\n",
    "        if random_number &lt; p:\n",
    "            n_success += 1\n",
    "\n",
    "    return n_success"
   ]
  },
  {
   "cell_type": "markdown",
   "id": "differential-bottle",
   "metadata": {},
   "source": [
    "<div class=\"alert alert-block alert-info\">\n",
    "\n",
    "### Chapter 3 -  Exercise 7\n",
    "### How many defaults might we expect?\n",
    "Let's say a bank made 100 mortgage loans. It is possible that anywhere between 0 and 100 of the loans will be defaulted upon. You would like to know the probability of getting a given number of defaults, given that the probability of a default is `` p = 0.05 ``. To investigate this, you will do a simulation. You will perform 100 Bernoulli trials using the `` perform_bernoulli_trials() `` function you wrote in the previous exercise and record how many defaults we get. Here, a success is a default. (Remember that the word \"success\" just means that the Bernoulli trial evaluates to `` True ``, i.e., did the loan recipient default?) You will do this for another 100 Bernoulli trials. And again and again until we have tried it 1000 times. Then, you will plot a histogram describing the probability of the number of defaults.\n",
    "</div><div class=\"alert alert-block alert-warning\">\n",
    "\n",
    "\n",
    "#### Instructions\n",
    "\n",
    "\n",
    "*   Seed the random number generator to 42.\n",
    "*   Initialize `` n_defaults ``, an empty array, using `` np.empty() ``. It should contain 1000 entries, since we are doing 1000 simulations.\n",
    "*   Write a `` for `` loop with `` 1000 `` iterations to compute the number of defaults per 100 loans using the `` perform_bernoulli_trials() `` function. It accepts two arguments: the number of trials `` n `` - in this case 100 - and the probability of success `` p `` - in this case the probability of a default, which is `` 0.05 ``. On each iteration of the loop store the result in an entry of `` n_defaults ``.\n",
    "*   Plot a histogram of `` n_defaults ``. Include the `` normed=True `` keyword argument so that the height of the bars of the histogram indicate the probability.\n",
    "*   Show your plot."
   ]
  },
  {
   "cell_type": "markdown",
   "id": "daily-account",
   "metadata": {
    "nbgrader": {
     "grade": false,
     "grade_id": "36",
     "locked": false,
     "schema_version": 3,
     "solution": true,
     "task": false
    }
   },
   "source": [
    "```python \n",
    "# Seed random number generator\n",
    "\n",
    "\n",
    "# Initialize the number of defaults: n_defaults\n",
    "\n",
    "\n",
    "# Compute the number of defaults\n",
    "for i in ____:\n",
    "    n_defaults[i] = ____\n",
    "\n",
    "\n",
    "# Plot the histogram with default number of bins; label your axes\n",
    "_ = plt.hist(____, ____)\n",
    "_ = plt.xlabel(number of defaults out of 100 loans)\n",
    "_ = plt.ylabel(probability)\n",
    "\n",
    "# Show the plot\n",
    "\n",
    "```"
   ]
  },
  {
   "cell_type": "code",
   "execution_count": null,
   "id": "linear-sussex",
   "metadata": {
    "nbgrader": {
     "grade": false,
     "grade_id": "37",
     "locked": false,
     "schema_version": 3,
     "solution": true,
     "task": false
    }
   },
   "outputs": [],
   "source": [
    "# Seed random number generator\n",
    "np.random.seed(42)\n",
    "\n",
    "# Initialize the number of defaults: n_defaults\n",
    "n_defaults = np.empty(1000)\n",
    "\n",
    "# Compute the number of defaults\n",
    "for i in range(1000):\n",
    "    n_defaults[i] = perform_bernoulli_trials(100, 0.05)\n",
    "\n",
    "# Plot the histogram with default number of bins; label your axes\n",
    "_ = plt.hist(n_defaults, normed=True)\n",
    "_ = plt.xlabel(number of defaults out of 100 loans)\n",
    "_ = plt.ylabel(probability)\n",
    "\n",
    "# Show the plot\n",
    "plt.show()"
   ]
  },
  {
   "cell_type": "markdown",
   "id": "fuzzy-importance",
   "metadata": {},
   "source": [
    "<div class=\"alert alert-block alert-info\">\n",
    "\n",
    "### Chapter 3 -  Exercise 8\n",
    "### Will the bank fail?\n",
    "Plot the number of defaults you got from the previous exercise, in your namespace as `` n_defaults ``, as a CDF. The `` ecdf() `` function you wrote in the first chapter is available.\n",
    "\n",
    "If interest rates are such that the bank will lose money if 10 or more of its loans are defaulted upon, what is the probability that the bank will lose money?\n",
    "</div><div class=\"alert alert-block alert-warning\">\n",
    "\n",
    "\n",
    "#### Instructions\n",
    "\n",
    "\n",
    "*   Compute the `` x `` and `` y `` values for the ECDF of `` n_defaults ``.\n",
    "*   Plot the ECDF, making sure to label the axes. Remember to include `` marker = '.' `` and `` linestyle = 'none' `` in addition to `` x `` and `` y `` in your call `` plt.plot() ``.\n",
    "*   Show the plot.\n",
    "*   Compute the total number of entries in your `` n_defaults `` array that were greater than or equal to 10. To do so, compute a boolean array that tells you whether a given entry of `` n_defaults `` is `` &gt;= 10 ``. Then sum all the entries in this array using `` np.sum() ``. For example, `` np.sum(n_defaults &lt;= 5) `` would compute the number of defaults with 5 or _fewer_ defaults.\n",
    "*   The probability that the bank loses money is the fraction of `` n_defaults `` that are greater than or equal to 10. Print this result by hitting 'Submit Answer'!"
   ]
  },
  {
   "cell_type": "markdown",
   "id": "wooden-jenny",
   "metadata": {
    "nbgrader": {
     "grade": false,
     "grade_id": "37",
     "locked": false,
     "schema_version": 3,
     "solution": true,
     "task": false
    }
   },
   "source": [
    "```python \n",
    "# Compute ECDF: x, y\n",
    "\n",
    "\n",
    "# Plot the ECDF with labeled axes\n",
    "\n",
    "\n",
    "\n",
    "\n",
    "# Show the plot\n",
    "\n",
    "\n",
    "# Compute the number of 100-loan simulations with 10 or more defaults: n_lose_money\n",
    "\n",
    "\n",
    "# Compute and print probability of losing money\n",
    "print(Probability of losing money =, n_lose_money / len(n_defaults))\n",
    "\n",
    "```"
   ]
  },
  {
   "cell_type": "code",
   "execution_count": null,
   "id": "bacterial-graph",
   "metadata": {
    "nbgrader": {
     "grade": false,
     "grade_id": "38",
     "locked": false,
     "schema_version": 3,
     "solution": true,
     "task": false
    }
   },
   "outputs": [],
   "source": [
    "# Compute ECDF: x, y\n",
    "x, y = ecdf(n_defaults)\n",
    "\n",
    "# Plot the CDF with labeled axes\n",
    "_ = plt.plot(x, y, marker=., linestyle=none)\n",
    "_ = plt.xlabel(number of defaults out of 100)\n",
    "_ = plt.ylabel(CDF)\n",
    "\n",
    "# Show the plot\n",
    "plt.show()\n",
    "\n",
    "# Compute the number of 100-loan simulations with 10 or more defaults: n_lose_money\n",
    "n_lose_money = np.sum(n_defaults &gt;= 10)\n",
    "\n",
    "# Compute and print probability of losing money\n",
    "print(Probability of losing money =, n_lose_money / len(n_defaults))\n"
   ]
  },
  {
   "cell_type": "markdown",
   "id": "beginning-testament",
   "metadata": {},
   "source": [
    "<div class=\"alert alert-block alert-info\">\n",
    "\n",
    "### Chapter 3 -  Exercise 10\n",
    "### Sampling out of the Binomial distribution\n",
    "Compute the probability mass function for the number of defaults we would expect for 100 loans as in the last section, but instead of simulating all of the Bernoulli trials, perform the sampling using `` np.random.binomial() ``. This is identical to the calculation you did in the last set of exercises using your custom-written `` perform_bernoulli_trials() `` function, but far more computationally efficient. Given this extra efficiency, we will take 10,000 samples instead of 1000. After taking the samples, plot the CDF as last time. This CDF that you are plotting is that of the Binomial distribution.\n",
    "\n",
    "_Note_: For this exercise and all going forward, the random number generator is pre-seeded for you (with `` np.random.seed(42) ``) to save you typing that each time.\n",
    "</div><div class=\"alert alert-block alert-warning\">\n",
    "\n",
    "\n",
    "#### Instructions\n",
    "\n",
    "\n",
    "*   Draw samples out of the Binomial distribution using `` np.random.binomial() ``. You should use parameters `` n = 100 `` and `` p = 0.05 ``, and set the `` size `` keyword argument to `` 10000 ``.\n",
    "*   Compute the CDF using your previously-written `` ecdf() `` function.\n",
    "*   Plot the CDF with axis labels. The x-axis here is the number of defaults out of 100 loans, while the y-axis is the CDF.\n",
    "*   Show the plot."
   ]
  },
  {
   "cell_type": "markdown",
   "id": "after-favor",
   "metadata": {
    "nbgrader": {
     "grade": false,
     "grade_id": "38",
     "locked": false,
     "schema_version": 3,
     "solution": true,
     "task": false
    }
   },
   "source": [
    "```python \n",
    "# Take 10,000 samples out of the binomial distribution: n_defaults\n",
    "\n",
    "\n",
    "# Compute CDF: x, y\n",
    "\n",
    "\n",
    "# Plot the CDF with axis labels\n",
    "\n",
    "\n",
    "\n",
    "\n",
    "# Show the plot\n",
    "\n",
    "\n",
    "```"
   ]
  },
  {
   "cell_type": "code",
   "execution_count": null,
   "id": "legitimate-filling",
   "metadata": {
    "nbgrader": {
     "grade": false,
     "grade_id": "310",
     "locked": false,
     "schema_version": 3,
     "solution": true,
     "task": false
    }
   },
   "outputs": [],
   "source": [
    "# Take 10,000 samples out of the binomial distribution: n_defaults\n",
    "n_defaults = np.random.binomial(n=100, p=0.05, size=10000)\n",
    "\n",
    "# Compute CDF: x, y\n",
    "x, y = ecdf(n_defaults)\n",
    "\n",
    "# Plot the CDF with axis labels\n",
    "_ = plt.plot(x, y, marker=., linestyle=none)\n",
    "_ = plt.xlabel(number of defaults out of 100 loans)\n",
    "_ = plt.ylabel(CDF)\n",
    "\n",
    "# Show the plot\n",
    "plt.show()\n"
   ]
  },
  {
   "cell_type": "markdown",
   "id": "smooth-lodge",
   "metadata": {},
   "source": [
    "<div class=\"alert alert-block alert-info\">\n",
    "\n",
    "### Chapter 3 -  Exercise 11\n",
    "### Plotting the Binomial PMF\n",
    "As mentioned in the video, plotting a nice looking PMF requires a bit of matplotlib trickery that we will not go into here. Instead, we will plot the PMF of the Binomial distribution as a histogram with skills you have already learned. The trick is setting up the edges of the bins to pass to `` plt.hist() `` via the `` bins `` keyword argument. We want the bins centered on the integers. So, the edges of the bins should be `` -0.5, 0.5, 1.5, 2.5, ... `` up to `` max(n_defaults) + 1.5 ``. You can generate an array like this using `` np.arange() `` and then subtracting `` 0.5 `` from the array.\n",
    "\n",
    "You have already sampled out of the Binomial distribution during your exercises on loan defaults, and the resulting samples are in the NumPy array `` n_defaults ``.\n",
    "</div><div class=\"alert alert-block alert-warning\">\n",
    "\n",
    "\n",
    "#### Instructions\n",
    "\n",
    "\n",
    "*   Using `` np.arange() ``, compute the bin edges such that the bins are centered on the integers. Store the resulting array in the variable `` bins ``. \n",
    "*   Use `` plt.hist() `` to plot the histogram of `` n_defaults `` with the `` normed=True `` and `` bins=bins `` keyword arguments.\n",
    "*   Show the plot."
   ]
  },
  {
   "cell_type": "markdown",
   "id": "becoming-level",
   "metadata": {
    "nbgrader": {
     "grade": false,
     "grade_id": "310",
     "locked": false,
     "schema_version": 3,
     "solution": true,
     "task": false
    }
   },
   "source": [
    "```python \n",
    "# Compute bin edges: bins\n",
    "bins = np.arange(____, ____ + ____) - 0.5\n",
    "\n",
    "# Generate histogram\n",
    "\n",
    "\n",
    "# Label axes\n",
    "\n",
    "\n",
    "\n",
    "# Show the plot\n",
    "\n",
    "```"
   ]
  },
  {
   "cell_type": "code",
   "execution_count": null,
   "id": "neural-billion",
   "metadata": {
    "nbgrader": {
     "grade": false,
     "grade_id": "311",
     "locked": false,
     "schema_version": 3,
     "solution": true,
     "task": false
    }
   },
   "outputs": [],
   "source": [
    "# Compute bin edges: bins\n",
    "bins = np.arange(0, max(n_defaults) + 1.5) - 0.5\n",
    "\n",
    "# Generate histogram\n",
    "_ = plt.hist(n_defaults, normed=True, bins=bins)\n",
    "\n",
    "# Label axes\n",
    "_ = plt.xlabel(number of defaults out of 100 loans)\n",
    "_ = plt.ylabel(PMF)\n",
    "\n",
    "# Show the plot\n",
    "plt.show()"
   ]
  },
  {
   "cell_type": "markdown",
   "id": "roman-commons",
   "metadata": {},
   "source": [
    "<div class=\"alert alert-block alert-info\">\n",
    "\n",
    "### Chapter 3 -  Exercise 13\n",
    "### Relationship between Binomial and Poisson distributions\n",
    "You just heard that the Poisson distribution is a limit of the Binomial distribution for rare events. This makes sense if you think about the stories. Say we do a Bernoulli trial every minute for an hour, each with a success probability of 0.1. We would do 60 trials, and the number of successes is Binomially distributed, and we would expect to get about 6 successes. This is just like the Poisson story we discussed in the video, where we get on average 6 hits on a website per hour. So, the Poisson distribution with arrival rate equal to \\\\(np\\\\) approximates a Binomial distribution for \\\\(n\\\\) Bernoulli trials with probability \\\\(p\\\\) of success (with \\\\(n\\\\) large and \\\\(p\\\\) small). Importantly, the Poisson distribution is often simpler to work with because it has only one parameter instead of two for the Binomial distribution.\n",
    "\n",
    "Let's explore these two distributions computationally. You will compute the mean and standard deviation of samples from a Poisson distribution with an arrival rate of 10. Then, you will compute the mean and standard deviation of samples from a Binomial distribution with parameters \\\\(n\\\\) and \\\\(p\\\\) such that \\\\(np = 10\\\\).\n",
    "</div><div class=\"alert alert-block alert-warning\">\n",
    "\n",
    "\n",
    "#### Instructions\n",
    "\n",
    "\n",
    "*   Using the `` np.random.poisson() `` function, draw `` 10000 `` samples from a Poisson distribution with a mean of `` 10 ``.\n",
    "*   Make a list of the `` n `` and `` p `` values to consider for the Binomial distribution. Choose `` n = [20, 100, 1000] `` and `` p = [0.5, 0.1, 0.01] `` so that \\\\(np\\\\) is always 10.\n",
    "*   Using `` np.random.binomial() `` inside the provided `` for `` loop, draw `` 10000 `` samples from a Binomial distribution with each `` n, p `` pair and print the mean and standard deviation of the samples. There are 3 `` n, p `` pairs: `` 20, 0.5 ``, `` 100, 0.1 ``, and `` 1000, 0.01 ``. These can be accessed inside the loop as `` n[i], p[i] ``."
   ]
  },
  {
   "cell_type": "markdown",
   "id": "surgical-narrative",
   "metadata": {
    "nbgrader": {
     "grade": false,
     "grade_id": "311",
     "locked": false,
     "schema_version": 3,
     "solution": true,
     "task": false
    }
   },
   "source": [
    "```python \n",
    "# Draw 10,000 samples out of Poisson distribution: samples_poisson\n",
    "\n",
    "\n",
    "# Print the mean and standard deviation\n",
    "print(Poisson:     , np.mean(samples_poisson),\n",
    "                       np.std(samples_poisson))\n",
    "\n",
    "# Specify values of n and p to consider for Binomial: n, p\n",
    "\n",
    "\n",
    "\n",
    "# Draw 10,000 samples for each n,p pair: samples_binomial\n",
    "for i in range(3):\n",
    "    samples_binomial = ____\n",
    "\n",
    "    # Print results\n",
    "    print(n =, n[i], Binom:, np.mean(samples_binomial),\n",
    "                                 np.std(samples_binomial))\n",
    "\n",
    "```"
   ]
  },
  {
   "cell_type": "code",
   "execution_count": null,
   "id": "opponent-statistics",
   "metadata": {
    "nbgrader": {
     "grade": false,
     "grade_id": "313",
     "locked": false,
     "schema_version": 3,
     "solution": true,
     "task": false
    }
   },
   "outputs": [],
   "source": [
    "# Draw 10,000 samples out of Poisson distribution: samples_poisson\n",
    "samples_poisson = np.random.poisson(10, size=10000)\n",
    "\n",
    "# Print the mean and standard deviation\n",
    "print(Poisson:     , np.mean(samples_poisson),\n",
    "                       np.std(samples_poisson))\n",
    "\n",
    "# Specify values of n and p to consider for Binomial: n, p\n",
    "n = [20, 100, 1000]\n",
    "p = [0.5, 0.1, 0.01]\n",
    "\n",
    "# Draw 10,000 samples for each n,p pair: samples_binomial\n",
    "for i in range(3):\n",
    "    samples_binomial = np.random.binomial(n[i], p[i], size=10000)\n",
    "\n",
    "    # Print results\n",
    "    print(n =, n[i], Binom:, np.mean(samples_binomial),\n",
    "                                 np.std(samples_binomial))\n"
   ]
  },
  {
   "cell_type": "markdown",
   "id": "proprietary-petite",
   "metadata": {
    "nbgrader": {
     "grade": false,
     "grade_id": "313",
     "locked": false,
     "schema_version": 3,
     "solution": true,
     "task": false
    }
   },
   "source": [
    "<div class=\"alert alert-block alert-success\">\n",
    "\n",
    "### Chapter 3 -  Exercise 14\n",
    "### How many no-hitters in a season?\n",
    "In baseball, a no-hitter is a game in which a pitcher does not allow the other team to get a hit. This is a rare event, and since the beginning of the so-called modern era of baseball (starting in 1901), there have only been 251 of them through the 2015 season in over 200,000 games. The ECDF of the number of no-hitters in a season is shown to the right. Which probability distribution would be appropriate to describe the number of no-hitters we would expect in a given season?\n",
    "\n",
    "_Note_: The no-hitter data set was scraped and calculated from the data sets available at [retrosheet.org](http://www.retrosheet.org) ([license](http://www.retrosheet.org/notice.txt)).\n",
    "\n",
    "\n",
    "\n",
    "#### Instructions\n",
    "#### Possible Answers\n",
    "\n",
    "\n",
    "1. Discrete uniform\n",
    "\n",
    "2. Binomial\n",
    "\n",
    "3. Poisson\n",
    "\n",
    "4. Both Binomial and Poisson, though Poisson is easier to model and compute.\n",
    "\n",
    "5. Both Binomial and Poisson, though Binomial is easier to model and compute."
   ]
  },
  {
   "cell_type": "markdown",
   "id": "technical-greenhouse",
   "metadata": {},
   "source": [
    "<div class=\"alert alert-block alert-info\">\n",
    "\n",
    "### Chapter 3 -  Exercise 15\n",
    "### Was 2015 anomalous?\n",
    "1990 and 2015 featured the most no-hitters of any season of baseball (there were seven). Given that there are on average 251/115 no-hitters per season, what is the probability of having seven or more in a season?\n",
    "</div><div class=\"alert alert-block alert-warning\">\n",
    "\n",
    "\n",
    "#### Instructions\n",
    "\n",
    "\n",
    "*   Draw `` 10000 `` samples from a Poisson distribution with a mean of `` 251/115 `` and assign to `` n_nohitters ``.\n",
    "*   Determine how many of your samples had a result greater than or equal to `` 7 `` and assign to `` n_large ``.\n",
    "*   Compute the probability, `` p_large ``, of having `` 7 `` or more no-hitters by dividing `` n_large `` by the total number of samples (`` 10000 ``).\n",
    "*   Hit 'Submit Answer' to print the probability that you calculated."
   ]
  },
  {
   "cell_type": "markdown",
   "id": "egyptian-eleven",
   "metadata": {
    "nbgrader": {
     "grade": false,
     "grade_id": "313",
     "locked": false,
     "schema_version": 3,
     "solution": true,
     "task": false
    }
   },
   "source": [
    "```python \n",
    "# Draw 10,000 samples out of Poisson distribution: n_nohitters\n",
    "\n",
    "\n",
    "# Compute number of samples that are seven or greater: n_large\n",
    "n_large = np.sum(____)\n",
    "\n",
    "# Compute probability of getting seven or more: p_large\n",
    "\n",
    "\n",
    "# Print the result\n",
    "print(Probability of seven or more no-hitters:, p_large)\n",
    "\n",
    "```"
   ]
  },
  {
   "cell_type": "code",
   "execution_count": null,
   "id": "domestic-serum",
   "metadata": {
    "nbgrader": {
     "grade": false,
     "grade_id": "315",
     "locked": false,
     "schema_version": 3,
     "solution": true,
     "task": false
    }
   },
   "outputs": [],
   "source": [
    "# Draw 10,000 samples out of Poisson distribution: n_nohitters\n",
    "n_nohitters = np.random.poisson(251/115, size=10000)\n",
    "\n",
    "# Compute number of samples that are seven or greater: n_large\n",
    "n_large = np.sum(n_nohitters &gt;= 7)\n",
    "\n",
    "# Compute probability of getting seven or more: p_large\n",
    "p_large = n_large / 10000\n",
    "\n",
    "# Print the result\n",
    "print(Probability of seven or more no-hitters:, p_large)\n"
   ]
  },
  {
   "cell_type": "markdown",
   "id": "sonic-mandate",
   "metadata": {
    "nbgrader": {
     "grade": false,
     "grade_id": "315",
     "locked": false,
     "schema_version": 3,
     "solution": true,
     "task": false
    }
   },
   "source": [
    "<div class=\"alert alert-block alert-success\">\n",
    "\n",
    "### Chapter 4 -  Exercise 2\n",
    "### Interpreting PDFs\n",
    "Consider the PDF shown to the right (it may take a second to load!). Which of the following is true?\n",
    "\n",
    "\n",
    "\n",
    "#### Instructions\n",
    "#### Possible Answers\n",
    "\n",
    "\n",
    "1. \\\\(x\\\\) is more likely to be , __less than 10__,  than to be greater than 10.\n",
    "\n",
    "2. \\\\(x\\\\) is more likely to be , __greater than 10__,  than to be less than 10.\n",
    "\n",
    "3. We cannot tell from the PDF if \\\\(x\\\\) is more likely to be greater than or less than 10.\n",
    "\n",
    "4. This is not a valid PDF because it has two peaks."
   ]
  },
  {
   "cell_type": "markdown",
   "id": "gross-throat",
   "metadata": {
    "nbgrader": {
     "grade": false,
     "grade_id": "315",
     "locked": false,
     "schema_version": 3,
     "solution": true,
     "task": false
    }
   },
   "source": [
    "<div class=\"alert alert-block alert-success\">\n",
    "\n",
    "### Chapter 4 -  Exercise 3\n",
    "### Interpreting CDFs\n",
    "At right is the CDF corresponding to the PDF you considered in the last exercise. Using the CDF, what is the probability that \\\\(x\\\\) is greater than 10?\n",
    "\n",
    "\n",
    "\n",
    "#### Instructions\n",
    "#### Possible Answers\n",
    "\n",
    "\n",
    "1. 0.25\n",
    "\n",
    "2. 0.75\n",
    "\n",
    "3. 3.75\n",
    "\n",
    "4. 15"
   ]
  },
  {
   "cell_type": "markdown",
   "id": "abroad-classroom",
   "metadata": {},
   "source": [
    "<div class=\"alert alert-block alert-info\">\n",
    "\n",
    "### Chapter 4 -  Exercise 5\n",
    "### The Normal PDF\n",
    "In this exercise, you will explore the Normal PDF and also learn a way to plot a PDF of a known distribution using hacker statistics. Specifically, you will plot a Normal PDF for various values of the variance.\n",
    "</div><div class=\"alert alert-block alert-warning\">\n",
    "\n",
    "\n",
    "#### Instructions\n",
    "\n",
    "\n",
    "*   Draw 100,000 samples from a Normal distribution that has a mean of `` 20 `` and a standard deviation of `` 1 ``. Do the same for Normal distributions with standard deviations of `` 3 `` and `` 10 ``, each still with a mean of `` 20 ``. Assign the results to `` samples_std1 ``, `` samples_std3 `` and `` samples_std10 ``, respectively.\n",
    "*   Plot a histograms of each of the samples; for each, use 100 bins, also using the keyword arguments `` normed=True `` and `` histtype='step' ``. The latter keyword argument makes the plot look much like the smooth theoretical PDF. You will need to make 3 `` plt.hist() `` calls.\n",
    "*   Hit 'Submit Answer' to make a legend, showing which standard deviations you used, and show your plot! There is no need to label the axes because we have not defined what is being described by the Normal distribution; we are just looking at shapes of PDFs."
   ]
  },
  {
   "cell_type": "markdown",
   "id": "detailed-position",
   "metadata": {
    "nbgrader": {
     "grade": false,
     "grade_id": "315",
     "locked": false,
     "schema_version": 3,
     "solution": true,
     "task": false
    }
   },
   "source": [
    "```python \n",
    "# Draw 100000 samples from Normal distribution with stds of interest: samples_std1, samples_std3, samples_std10\n",
    "\n",
    "\n",
    "\n",
    "\n",
    "# Make histograms\n",
    "\n",
    "\n",
    "\n",
    "\n",
    "# Make a legend, set limits and show plot\n",
    "_ = plt.legend((std = 1, std = 3, std = 10))\n",
    "plt.ylim(-0.01, 0.42)\n",
    "plt.show()\n",
    "\n",
    "```"
   ]
  },
  {
   "cell_type": "code",
   "execution_count": null,
   "id": "corrected-rendering",
   "metadata": {
    "nbgrader": {
     "grade": false,
     "grade_id": "45",
     "locked": false,
     "schema_version": 3,
     "solution": true,
     "task": false
    }
   },
   "outputs": [],
   "source": [
    "# Draw 100000 samples from Normal distribution with stds of interest: samples_std1, samples_std3, samples_std10\n",
    "samples_std1 = np.random.normal(20, 1, size=100000)\n",
    "samples_std3 = np.random.normal(20, 3, size=100000)\n",
    "samples_std10 = np.random.normal(20, 10, size=100000)\n",
    "\n",
    "# Make histograms\n",
    "_ = plt.hist(samples_std1, bins=100, normed=True, histtype=step)\n",
    "_ = plt.hist(samples_std3, bins=100, normed=True, histtype=step)\n",
    "_ = plt.hist(samples_std10, bins=100, normed=True, histtype=step)\n",
    "\n",
    "# Make a legend, set limits and show plot\n",
    "_ = plt.legend((std = 1, std = 3, std = 10))\n",
    "plt.ylim(-0.01, 0.42)\n",
    "plt.show()\n"
   ]
  },
  {
   "cell_type": "markdown",
   "id": "likely-cardiff",
   "metadata": {},
   "source": [
    "<div class=\"alert alert-block alert-info\">\n",
    "\n",
    "### Chapter 4 -  Exercise 6\n",
    "### The Normal CDF\n",
    "Now that you have a feel for how the Normal PDF looks, let's consider its CDF. Using the samples you generated in the last exercise (in your namespace as `` samples_std1 ``, `` samples_std3 ``, and `` samples_std10 ``), generate and plot the CDFs.\n",
    "</div><div class=\"alert alert-block alert-warning\">\n",
    "\n",
    "\n",
    "#### Instructions\n",
    "\n",
    "\n",
    "*   Use your `` ecdf() `` function to generate x and y values for CDFs: `` x_std1, y_std1 ``, `` x_std3, y_std3 `` and `` x_std10, y_std10 ``, respectively.\n",
    "*   Plot all three CDFs as dots (do not forget the `` marker `` and `` linestyle `` keyword arguments!).\n",
    "*   Hit submit to make a legend, showing which standard deviations you used, and to show your plot. There is no need to label the axes because we have not defined what is being described by the Normal distribution; we are just looking at shapes of CDFs."
   ]
  },
  {
   "cell_type": "markdown",
   "id": "touched-furniture",
   "metadata": {
    "nbgrader": {
     "grade": false,
     "grade_id": "45",
     "locked": false,
     "schema_version": 3,
     "solution": true,
     "task": false
    }
   },
   "source": [
    "```python \n",
    "# Generate CDFs\n",
    "\n",
    "\n",
    "\n",
    "\n",
    "# Plot CDFs\n",
    "\n",
    "\n",
    "\n",
    "# Make a legend and show the plot\n",
    "_ = plt.legend((std = 1, std = 3, std = 10), loc=lower right)\n",
    "plt.show()\n",
    "\n",
    "```"
   ]
  },
  {
   "cell_type": "code",
   "execution_count": null,
   "id": "wrapped-census",
   "metadata": {
    "nbgrader": {
     "grade": false,
     "grade_id": "46",
     "locked": false,
     "schema_version": 3,
     "solution": true,
     "task": false
    }
   },
   "outputs": [],
   "source": [
    "# Generate CDFs\n",
    "x_std1, y_std1 = ecdf(samples_std1)\n",
    "x_std3, y_std3 = ecdf(samples_std3)\n",
    "x_std10, y_std10 = ecdf(samples_std10)\n",
    "\n",
    "# Plot CDFs\n",
    "_ = plt.plot(x_std1, y_std1, marker=., linestyle=none)\n",
    "_ = plt.plot(x_std3, y_std3, marker=., linestyle=none)\n",
    "_ = plt.plot(x_std10, y_std10, marker=., linestyle=none)\n",
    "\n",
    "# Make a legend and show the plot\n",
    "_ = plt.legend((std = 1, std = 3, std = 10), loc=lower right)\n",
    "plt.show()\n"
   ]
  },
  {
   "cell_type": "markdown",
   "id": "accredited-arcade",
   "metadata": {
    "nbgrader": {
     "grade": false,
     "grade_id": "46",
     "locked": false,
     "schema_version": 3,
     "solution": true,
     "task": false
    }
   },
   "source": [
    "<div class=\"alert alert-block alert-success\">\n",
    "\n",
    "### Chapter 4 -  Exercise 8\n",
    "### Gauss and the 10 Deutschmark banknote\n",
    "What are the mean and standard deviation, respectively, of the Normal distribution that was on the 10 Deutschmark banknote, shown to the right?\n",
    "\n",
    "\n",
    "\n",
    "#### Instructions\n",
    "#### Possible Answers\n",
    "\n",
    "\n",
    "1. mean = 3, std = 1\n",
    "\n",
    "2. mean = 3, std = 2\n",
    "\n",
    "3. mean = 0.4, std = 1\n",
    "\n",
    "4. mean = 0.6, std = 6"
   ]
  },
  {
   "cell_type": "markdown",
   "id": "posted-compound",
   "metadata": {},
   "source": [
    "<div class=\"alert alert-block alert-info\">\n",
    "\n",
    "### Chapter 4 -  Exercise 9\n",
    "### Are the Belmont Stakes results Normally distributed?\n",
    "Since 1926, the Belmont Stakes is a 1.5 mile-long race of 3-year old thoroughbred horses. [Secretariat](https://en.wikipedia.org/wiki/Secretariat_(horse)) ran the fastest Belmont Stakes in history in 1973. While that was the fastest year, 1970 was the slowest because of unusually wet and sloppy conditions. With these two outliers removed from the data set, compute the mean and standard deviation of the Belmont winners' times. Sample out of a Normal distribution with this mean and standard deviation using the `` np.random.normal() `` function and plot a CDF. Overlay the ECDF from the winning Belmont times. Are these close to Normally distributed?\n",
    "\n",
    "_Note_: Justin scraped the data concerning the Belmont Stakes from the [Belmont Wikipedia page](https://en.wikipedia.org/wiki/Belmont_Stakes).\n",
    "</div><div class=\"alert alert-block alert-warning\">\n",
    "\n",
    "\n",
    "#### Instructions\n",
    "\n",
    "\n",
    "*   Compute mean and standard deviation of Belmont winners' times with the two outliers removed. The NumPy array `` belmont_no_outliers `` has these data.\n",
    "*   Take 10,000 samples out of a normal distribution with this mean and standard deviation using `` np.random.normal() ``.\n",
    "*   Compute the CDF of the theoretical samples and the ECDF of the Belmont winners' data, assigning the results to `` x_theor, y_theor `` and `` x, y ``, respectively.\n",
    "*   Hit submit to plot the CDF of your samples with the ECDF, label your axes and show the plot."
   ]
  },
  {
   "cell_type": "markdown",
   "id": "fitting-permit",
   "metadata": {
    "nbgrader": {
     "grade": false,
     "grade_id": "46",
     "locked": false,
     "schema_version": 3,
     "solution": true,
     "task": false
    }
   },
   "source": [
    "```python \n",
    "# Compute mean and standard deviation: mu, sigma\n",
    "\n",
    "\n",
    "\n",
    "# Sample out of a normal distribution with this mu and sigma: samples\n",
    "\n",
    "\n",
    "# Get the CDF of the samples and of the data\n",
    "\n",
    "\n",
    "\n",
    "# Plot the CDFs and show the plot\n",
    "_ = plt.plot(x_theor, y_theor)\n",
    "_ = plt.plot(x, y, marker=., linestyle=none)\n",
    "_ = plt.xlabel(Belmont winning time (sec.))\n",
    "_ = plt.ylabel(CDF)\n",
    "plt.show()\n",
    "\n",
    "```"
   ]
  },
  {
   "cell_type": "code",
   "execution_count": null,
   "id": "authentic-romance",
   "metadata": {
    "nbgrader": {
     "grade": false,
     "grade_id": "49",
     "locked": false,
     "schema_version": 3,
     "solution": true,
     "task": false
    }
   },
   "outputs": [],
   "source": [
    "# Compute mean and standard deviation: mu, sigma\n",
    "mu = np.mean(belmont_no_outliers)\n",
    "sigma = np.std(belmont_no_outliers)\n",
    "\n",
    "# Sample out of a normal distribution with this mu and sigma: samples\n",
    "samples = np.random.normal(mu, sigma, size=10000)\n",
    "\n",
    "# Get the CDF of the samples and of the data\n",
    "x_theor, y_theor = ecdf(samples)\n",
    "x, y = ecdf(belmont_no_outliers)\n",
    "\n",
    "# Plot the CDFs and show the plot\n",
    "_ = plt.plot(x_theor, y_theor)\n",
    "_ = plt.plot(x, y, marker=., linestyle=none)\n",
    "_ = plt.xlabel(Belmont winning time (sec.))\n",
    "_ = plt.ylabel(CDF)\n",
    "plt.show()\n"
   ]
  },
  {
   "cell_type": "markdown",
   "id": "dramatic-sodium",
   "metadata": {},
   "source": [
    "<div class=\"alert alert-block alert-info\">\n",
    "\n",
    "### Chapter 4 -  Exercise 10\n",
    "### What are the chances of a horse matching or beating Secretariat's record?\n",
    "Assume that the Belmont winners' times are Normally distributed (with the 1970 and 1973 years removed), what is the probability that the winner of a given Belmont Stakes will run it as fast or faster than Secretariat?\n",
    "</div><div class=\"alert alert-block alert-warning\">\n",
    "\n",
    "\n",
    "#### Instructions\n",
    "\n",
    "\n",
    "*   Take 1,000,000 samples from the normal distribution using the `` np.random.normal() `` function. The mean `` mu `` and standard deviation `` sigma `` are already loaded into the namespace of your IPython instance.\n",
    "*   Compute the fraction of samples that have a time less than or equal to Secretariat's time of 144 seconds.\n",
    "*   Print the result."
   ]
  },
  {
   "cell_type": "markdown",
   "id": "brown-belarus",
   "metadata": {
    "nbgrader": {
     "grade": false,
     "grade_id": "49",
     "locked": false,
     "schema_version": 3,
     "solution": true,
     "task": false
    }
   },
   "source": [
    "```python \n",
    "# Take a million samples out of the Normal distribution: samples\n",
    "\n",
    "\n",
    "# Compute the fraction that are faster than 144 seconds: prob\n",
    "\n",
    "\n",
    "# Print the result\n",
    "print(Probability of besting Secretariat:, prob)\n",
    "\n",
    "```"
   ]
  },
  {
   "cell_type": "code",
   "execution_count": null,
   "id": "reasonable-manchester",
   "metadata": {
    "nbgrader": {
     "grade": false,
     "grade_id": "410",
     "locked": false,
     "schema_version": 3,
     "solution": true,
     "task": false
    }
   },
   "outputs": [],
   "source": [
    "# Take a million samples out of the Normal distribution: samples\n",
    "samples = np.random.normal(mu, sigma, size=1000000)\n",
    "\n",
    "# Compute the fraction that are faster than 144 seconds: prob\n",
    "prob = np.sum(samples &lt;= 144) / len(samples)\n",
    "\n",
    "# Print the result\n",
    "print(Probability of besting Secretariat:, prob)\n"
   ]
  },
  {
   "cell_type": "markdown",
   "id": "hollywood-petroleum",
   "metadata": {},
   "source": [
    "<div class=\"alert alert-block alert-info\">\n",
    "\n",
    "### Chapter 4 -  Exercise 14\n",
    "### If you have a story, you can simulate it!\n",
    "Sometimes, the story describing our probability distribution does not have a named distribution to go along with it. In these cases, fear not! You can always simulate it. We'll do that in this and the next exercise.\n",
    "\n",
    "In earlier exercises, we looked at the rare event of no-hitters in Major League Baseball. _Hitting the cycle_ is another rare baseball event. When a batter hits the cycle, he gets all four kinds of hits, a single, double, triple, and home run, in a single game. Like no-hitters, this can be modeled as a Poisson process, so the time between hits of the cycle are also Exponentially distributed.\n",
    "\n",
    "How long must we wait to see both a no-hitter _and then_ a batter hit the cycle? The idea is that we have to wait some time for the no-hitter, and then after the no-hitter, we have to wait for hitting the cycle. Stated another way, what is the total waiting time for the arrival of two different Poisson processes? The total waiting time is the time waited for the no-hitter, plus the time waited for the hitting the cycle.\n",
    "\n",
    "Now, you will write a function to sample out of the distribution described by this story.\n",
    "</div><div class=\"alert alert-block alert-warning\">\n",
    "\n",
    "\n",
    "#### Instructions\n",
    "\n",
    "\n",
    "*   Define a function with call signature `` successive_poisson(tau1, tau2, size=1) `` that samples the waiting time for a no-hitter and a hit of the cycle.\n",
    "    \n",
    "    *   Draw waiting times `` tau1 `` (`` size `` number of samples) for the no-hitter out of an exponential distribution and assign to `` t1 ``.\n",
    "    *   Draw waiting times `` tau2 `` (`` size `` number of samples) for hitting the cycle out of an exponential distribution and assign to `` t2 ``.\n",
    "    *   The function returns the sum of the waiting times for the two events.\n",
    "    \n",
    "    \n",
    "    "
   ]
  },
  {
   "cell_type": "markdown",
   "id": "bizarre-saudi",
   "metadata": {
    "nbgrader": {
     "grade": false,
     "grade_id": "410",
     "locked": false,
     "schema_version": 3,
     "solution": true,
     "task": false
    }
   },
   "source": [
    "```python \n",
    "def successive_poisson(tau1, tau2, size=1):\n",
    "    \\\\'\\\\'\\\\'Compute time for arrival of 2 successive Poisson processes.\\\\'\\\\'\\\\'\n",
    "    # Draw samples out of first exponential distribution: t1\n",
    "    t1 = ____(____, ____)\n",
    "\n",
    "    # Draw samples out of second exponential distribution: t2\n",
    "    t2 = ____(____, ____)\n",
    "\n",
    "    return t1 + t2\n",
    "```"
   ]
  },
  {
   "cell_type": "code",
   "execution_count": null,
   "id": "macro-arbitration",
   "metadata": {
    "nbgrader": {
     "grade": false,
     "grade_id": "414",
     "locked": false,
     "schema_version": 3,
     "solution": true,
     "task": false
    }
   },
   "outputs": [],
   "source": [
    "def successive_poisson(tau1, tau2, size=1):\n",
    "    \\\\\\\\\\\\\\\\\\\\\\\\Compute time for arrival of 2 successive Poisson processes.\\\\\\\\\\\\\\\\\\\\\\\\\n",
    "    # Draw samples out of first exponential distribution: t1\n",
    "    t1 = np.random.exponential(tau1, size=size)\n",
    "\n",
    "    # Draw samples out of second exponential distribution: t2\n",
    "    t2 = np.random.exponential(tau2, size=size)\n",
    "\n",
    "    return t1 + t2\n"
   ]
  },
  {
   "cell_type": "markdown",
   "id": "black-soundtrack",
   "metadata": {},
   "source": [
    "<div class=\"alert alert-block alert-info\">\n",
    "\n",
    "### Chapter 4 -  Exercise 15\n",
    "### Distribution of no-hitters and cycles\n",
    "Now, you'll use your sampling function to compute the waiting time to observe a no-hitter and hitting of the cycle. The mean waiting time for a no-hitter is 764 games, and the mean waiting time for hitting the cycle is 715 games.\n",
    "</div><div class=\"alert alert-block alert-warning\">\n",
    "\n",
    "\n",
    "#### Instructions\n",
    "\n",
    "\n",
    "*   Use your `` successive_poisson() `` function to draw 100,000 out of the distribution of waiting times for observing a no-hitter and a hitting of the cycle.\n",
    "*   Plot the PDF of the waiting times using the step histogram technique of a previous exercise. Don't forget the necessary keyword arguments. You should use `` bins=100 ``, `` normed=True ``, and `` histtype='step' ``.\n",
    "*   Label the axes.\n",
    "*   Show your plot."
   ]
  },
  {
   "cell_type": "markdown",
   "id": "available-james",
   "metadata": {
    "nbgrader": {
     "grade": false,
     "grade_id": "414",
     "locked": false,
     "schema_version": 3,
     "solution": true,
     "task": false
    }
   },
   "source": [
    "```python \n",
    "# Draw samples of waiting times: waiting_times\n",
    "\n",
    "\n",
    "# Make the histogram\n",
    "\n",
    "\n",
    "\n",
    "# Label axes\n",
    "\n",
    "\n",
    "\n",
    "# Show the plot\n",
    "\n",
    "\n",
    "```"
   ]
  },
  {
   "cell_type": "code",
   "execution_count": null,
   "id": "diverse-arcade",
   "metadata": {
    "nbgrader": {
     "grade": false,
     "grade_id": "415",
     "locked": false,
     "schema_version": 3,
     "solution": true,
     "task": false
    }
   },
   "outputs": [],
   "source": [
    "# Draw samples of waiting times\n",
    "waiting_times = successive_poisson(764, 715, size=100000)\n",
    "\n",
    "# Make the histogram\n",
    "_ = plt.hist(waiting_times, bins=100, histtype=step,\n",
    "             normed=True)\n",
    "\n",
    "# Label axes\n",
    "_ = plt.xlabel(total waiting time (games))\n",
    "_ = plt.ylabel(PDF)\n",
    "\n",
    "# Show the plot\n",
    "plt.show()\n"
   ]
  }
 ],
 "metadata": {
  "kernelspec": {
   "display_name": "Python 3",
   "language": "python",
   "name": "python3"
  },
  "language_info": {
   "codemirror_mode": {
    "name": "ipython",
    "version": 3
   },
   "file_extension": ".py",
   "mimetype": "text/x-python",
   "name": "python",
   "nbconvert_exporter": "python",
   "pygments_lexer": "ipython3",
   "version": "3.7.3"
  }
 },
 "nbformat": 4,
 "nbformat_minor": 5
}
